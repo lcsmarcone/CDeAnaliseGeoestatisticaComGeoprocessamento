{
 "cells": [
  {
   "cell_type": "code",
   "execution_count": 3,
   "id": "53ade8aa-ee2a-46de-9db1-c94a484e70ae",
   "metadata": {},
   "outputs": [
    {
     "name": "stdout",
     "output_type": "stream",
     "text": [
      "hello, world!\n"
     ]
    }
   ],
   "source": [
    "print('hello, world!')"
   ]
  },
  {
   "cell_type": "code",
   "execution_count": 17,
   "id": "91e2859f-28b3-4062-abb4-7fb3f6dd5698",
   "metadata": {},
   "outputs": [],
   "source": [
    "nome = \"Geovane Santos\" # String ou um texto\n",
    "idade = 30 # Inteiro ou Int \n",
    "altura = 1.80 # Float ou decimal"
   ]
  },
  {
   "cell_type": "code",
   "execution_count": 18,
   "id": "93b1951d-2c88-4b24-853a-d66b4639245e",
   "metadata": {},
   "outputs": [
    {
     "name": "stdout",
     "output_type": "stream",
     "text": [
      "Geovane Santos 30 1.8\n"
     ]
    }
   ],
   "source": [
    "print(nome, idade, altura)"
   ]
  },
  {
   "cell_type": "code",
   "execution_count": 25,
   "id": "041bb8c0-697c-4578-a9ca-cc8cb13f1a03",
   "metadata": {},
   "outputs": [],
   "source": [
    "# Operadores aritméticos \n",
    "soma = 2 + 3\n",
    "subtracao = 5 - 2\n",
    "multiplicacao = 4 * 2 \n",
    "divisao = 10 / 2 \n",
    "\n",
    "# Operadores Lógicos \n",
    "verdeira = True\n",
    "falsa = False\n",
    "resultado = verdeira or falsa"
   ]
  },
  {
   "cell_type": "code",
   "execution_count": 26,
   "id": "7dbc6c85-908a-4558-98f1-04ed1b368546",
   "metadata": {},
   "outputs": [
    {
     "name": "stdout",
     "output_type": "stream",
     "text": [
      "5 3 8 5.0\n",
      "True False\n",
      "True\n"
     ]
    }
   ],
   "source": [
    "print(soma, subtracao, multiplicacao, divisao)\n",
    "print(verdeira, falsa)\n",
    "print(resultado)"
   ]
  },
  {
   "cell_type": "code",
   "execution_count": 34,
   "id": "87022863-904d-4e26-81cb-c7b83347e255",
   "metadata": {},
   "outputs": [
    {
     "name": "stdout",
     "output_type": "stream",
     "text": [
      "você é idoso\n"
     ]
    }
   ],
   "source": [
    "idade = 60\n",
    "if idade >= 60:\n",
    "    print('você é idoso')\n",
    "elif idade  60 >= 18:\n",
    "    print('você é maior de idade')\n",
    "else: \n",
    "    print('você é menor de idade')"
   ]
  },
  {
   "cell_type": "code",
   "execution_count": 35,
   "id": "e38a461d-8cd8-4d65-a78f-7f120267c4b3",
   "metadata": {},
   "outputs": [
    {
     "name": "stdout",
     "output_type": "stream",
     "text": [
      "Hello, World!\n"
     ]
    }
   ],
   "source": [
    "print(\"Hello, World!\")"
   ]
  },
  {
   "cell_type": "code",
   "execution_count": null,
   "id": "355d6b86-4181-4f0d-973e-67757e87e405",
   "metadata": {},
   "outputs": [],
   "source": []
  }
 ],
 "metadata": {
  "kernelspec": {
   "display_name": "Python 3 (ipykernel)",
   "language": "python",
   "name": "python3"
  },
  "language_info": {
   "codemirror_mode": {
    "name": "ipython",
    "version": 3
   },
   "file_extension": ".py",
   "mimetype": "text/x-python",
   "name": "python",
   "nbconvert_exporter": "python",
   "pygments_lexer": "ipython3",
   "version": "3.12.6"
  }
 },
 "nbformat": 4,
 "nbformat_minor": 5
}
