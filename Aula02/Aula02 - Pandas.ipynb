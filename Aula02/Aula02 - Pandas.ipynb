{
 "cells": [
  {
   "cell_type": "code",
   "execution_count": 2,
   "id": "9260f2c2-4499-446d-b593-af7511ef49e5",
   "metadata": {},
   "outputs": [],
   "source": [
    "import pandas as pd"
   ]
  },
  {
   "cell_type": "code",
   "execution_count": 5,
   "id": "d183d336-6405-43af-abf5-11132e63dc73",
   "metadata": {},
   "outputs": [],
   "source": [
    "df = pd.DataFrame(\n",
    "    {\n",
    "        \"nome\": [\n",
    "            \"Maria\", \n",
    "            \"Raony\",\n",
    "            \"Eduardo\"],\n",
    "        \"idade\": [25, 28, 26],\n",
    "        \"sexo\": [\"feminino\", \"masculino\", \"masculino\"]\n",
    "    }\n",
    ")"
   ]
  },
  {
   "cell_type": "code",
   "execution_count": 6,
   "id": "3687c442-095c-4baf-b477-c302f79c5c53",
   "metadata": {},
   "outputs": [
    {
     "name": "stdout",
     "output_type": "stream",
     "text": [
      "      nome  idade       sexo\n",
      "0    Maria     25   feminino\n",
      "1    Raony     28  masculino\n",
      "2  Eduardo     26  masculino\n"
     ]
    }
   ],
   "source": [
    "print(df)"
   ]
  },
  {
   "cell_type": "code",
   "execution_count": 10,
   "id": "a22fb243-e950-4e34-b82c-d66194ecc179",
   "metadata": {},
   "outputs": [
    {
     "data": {
      "text/plain": [
       "0     feminino\n",
       "1    masculino\n",
       "2    masculino\n",
       "Name: sexo, dtype: object"
      ]
     },
     "execution_count": 10,
     "metadata": {},
     "output_type": "execute_result"
    }
   ],
   "source": [
    "df[\"sexo\"]"
   ]
  },
  {
   "cell_type": "code",
   "execution_count": 13,
   "id": "5a668b36-06ee-43fb-b898-9d08c47e3760",
   "metadata": {},
   "outputs": [
    {
     "data": {
      "text/plain": [
       "0    22\n",
       "1    35\n",
       "2    58\n",
       "Name: Idades, dtype: int64"
      ]
     },
     "execution_count": 13,
     "metadata": {},
     "output_type": "execute_result"
    }
   ],
   "source": [
    "idades = pd.Series([22, 35, 58], name=\"Idades\")\n",
    "idades"
   ]
  },
  {
   "cell_type": "code",
   "execution_count": 16,
   "id": "7842f713-5508-4223-8c4a-fdc71c96313b",
   "metadata": {},
   "outputs": [
    {
     "data": {
      "text/plain": [
       "np.int64(28)"
      ]
     },
     "execution_count": 16,
     "metadata": {},
     "output_type": "execute_result"
    }
   ],
   "source": [
    "df[\"idade\"].max()"
   ]
  },
  {
   "cell_type": "code",
   "execution_count": 18,
   "id": "b3e686c2-961e-4355-a880-ba40fa0f465e",
   "metadata": {},
   "outputs": [
    {
     "data": {
      "text/plain": [
       "np.int64(58)"
      ]
     },
     "execution_count": 18,
     "metadata": {},
     "output_type": "execute_result"
    }
   ],
   "source": [
    "idades.max()"
   ]
  },
  {
   "cell_type": "code",
   "execution_count": null,
   "id": "c9fef0e3-58a9-48ed-a709-73436d5e7ced",
   "metadata": {},
   "outputs": [],
   "source": []
  }
 ],
 "metadata": {
  "kernelspec": {
   "display_name": "Python 3 (ipykernel)",
   "language": "python",
   "name": "python3"
  },
  "language_info": {
   "codemirror_mode": {
    "name": "ipython",
    "version": 3
   },
   "file_extension": ".py",
   "mimetype": "text/x-python",
   "name": "python",
   "nbconvert_exporter": "python",
   "pygments_lexer": "ipython3",
   "version": "3.12.6"
  }
 },
 "nbformat": 4,
 "nbformat_minor": 5
}
