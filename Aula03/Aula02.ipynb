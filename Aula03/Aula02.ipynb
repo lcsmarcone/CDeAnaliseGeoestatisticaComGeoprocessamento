{
 "cells": [
  {
   "cell_type": "code",
   "execution_count": 5,
   "id": "b68e6f6e-43a5-401f-9b17-c2a3c02b9982",
   "metadata": {},
   "outputs": [
    {
     "name": "stdout",
     "output_type": "stream",
     "text": [
      "Não está permitido assistir a aula.\n"
     ]
    }
   ],
   "source": [
    "# if\n",
    "\n",
    "nome = \"Lucas\"\n",
    "if nome == \"Raony\":\n",
    "    print(\"Está permitido assistir a aula.\")\n",
    "else:\n",
    "    print(\"Não está permitido assistir a aula.\")"
   ]
  },
  {
   "cell_type": "code",
   "execution_count": 7,
   "id": "e8d18417-23a4-41b6-943f-35eb36a7e31e",
   "metadata": {},
   "outputs": [
    {
     "name": "stdout",
     "output_type": "stream",
     "text": [
      "0\n",
      "1\n",
      "2\n",
      "3\n",
      "4\n"
     ]
    }
   ],
   "source": [
    "# for (para)\n",
    "\n",
    "for i in range(5):\n",
    "    print(i)"
   ]
  },
  {
   "cell_type": "code",
   "execution_count": 10,
   "id": "f10e1471-401d-4e60-9f20-71d13ae99fa2",
   "metadata": {},
   "outputs": [
    {
     "name": "stdout",
     "output_type": "stream",
     "text": [
      "Eduardo\n",
      "Maria\n",
      "Raony\n",
      "Geovane\n"
     ]
    }
   ],
   "source": [
    "nomes_alunos = [\"Eduardo\", \"Maria\", \"Raony\", \"Geovane\"]\n",
    "\n",
    "for n in nomes_alunos:\n",
    "    print(n)"
   ]
  },
  {
   "cell_type": "code",
   "execution_count": 11,
   "id": "981c0796-681f-4d4f-8150-e6c7a9d62f18",
   "metadata": {},
   "outputs": [
    {
     "name": "stdout",
     "output_type": "stream",
     "text": [
      "0\n",
      "1\n",
      "2\n",
      "3\n",
      "4\n"
     ]
    }
   ],
   "source": [
    "# while\n",
    "\n",
    "contador = 0\n",
    "while contador < 5:\n",
    "    print(contador)\n",
    "    contador += 1"
   ]
  },
  {
   "cell_type": "code",
   "execution_count": 18,
   "id": "ceaf0e9d-fab5-43ff-a429-a1c91e6a58ad",
   "metadata": {},
   "outputs": [
    {
     "name": "stdout",
     "output_type": "stream",
     "text": [
      "Olá,  Hiago Santos!\n"
     ]
    }
   ],
   "source": [
    "# def (define a fuction) ou definir uma função\n",
    "def saudacao(nome, sobrenome):\n",
    "    print(\"Olá, \", nome, sobrenome + \"!\")\n",
    "\n",
    "saudacao(\"Hiago\", \"Santos\")\n"
   ]
  },
  {
   "cell_type": "code",
   "execution_count": 20,
   "id": "1c1a4871-e3f7-4756-aff4-2ab1a619c991",
   "metadata": {},
   "outputs": [
    {
     "name": "stdout",
     "output_type": "stream",
     "text": [
      "3 5\n",
      "8\n"
     ]
    }
   ],
   "source": [
    "def soma(a, b):\n",
    "    print(a, b)\n",
    "    return a + b\n",
    "\n",
    "resultado = soma (3, 5)\n",
    "print(resultado)"
   ]
  },
  {
   "cell_type": "code",
   "execution_count": 21,
   "id": "85eda338-7473-464b-98a6-d79b2b214224",
   "metadata": {},
   "outputs": [
    {
     "name": "stdout",
     "output_type": "stream",
     "text": [
      "4.0\n"
     ]
    }
   ],
   "source": [
    "# modulos e pacotes\n",
    "import math \n",
    "resultado_raiz_quadrada = math.sqrt(16)\n",
    "print(resultado_raiz_quadrada)"
   ]
  },
  {
   "cell_type": "code",
   "execution_count": 22,
   "id": "0b12b8ce-2194-4002-b136-3259361f830e",
   "metadata": {},
   "outputs": [
    {
     "name": "stdout",
     "output_type": "stream",
     "text": [
      "[1 2 3]\n"
     ]
    }
   ],
   "source": [
    "import numpy as np\n",
    "array = np.array([1, 2, 3])\n",
    "print(array)"
   ]
  },
  {
   "cell_type": "code",
   "execution_count": 24,
   "id": "58dea2cb-dbe9-4dff-8c5e-617133f1f303",
   "metadata": {},
   "outputs": [
    {
     "name": "stdout",
     "output_type": "stream",
     "text": [
      "['maça', 'banana', 'uva']\n"
     ]
    }
   ],
   "source": [
    "# estrutura de dados \n",
    "# lista\n",
    "\n",
    "lista_de_frutas = [\"maça\", \"banana\", \"uva\"]\n",
    "print(lista_de_frutas)"
   ]
  },
  {
   "cell_type": "code",
   "execution_count": 27,
   "id": "b665b78a-2a95-4f6f-8127-f0eb6a78850d",
   "metadata": {},
   "outputs": [
    {
     "name": "stdout",
     "output_type": "stream",
     "text": [
      "maça banana\n"
     ]
    }
   ],
   "source": [
    "primeira_fruta = lista_de_frutas[0]\n",
    "segunda_fruta = lista_de_frutas[1]\n",
    "print(primeira_fruta, segunda_fruta)"
   ]
  },
  {
   "cell_type": "code",
   "execution_count": 28,
   "id": "379c3ba1-61af-4cc4-916a-6d8875625349",
   "metadata": {},
   "outputs": [
    {
     "name": "stdout",
     "output_type": "stream",
     "text": [
      "['maça', 'pera', 'uva']\n"
     ]
    }
   ],
   "source": [
    "lista_de_frutas[1] = \"pera\"\n",
    "print(lista_de_frutas)"
   ]
  },
  {
   "cell_type": "code",
   "execution_count": 30,
   "id": "e23da52a-5456-472e-b7bb-7990db73629d",
   "metadata": {},
   "outputs": [
    {
     "name": "stdout",
     "output_type": "stream",
     "text": [
      "['maça', 'pera', 'uva', 'goiaba', 'laranja', 'goiaba', 'laranja']\n"
     ]
    }
   ],
   "source": [
    "lista_de_frutas.append(\"goiaba\")\n",
    "lista_de_frutas.append(\"laranja\")\n",
    "print(lista_de_frutas)"
   ]
  },
  {
   "cell_type": "code",
   "execution_count": 31,
   "id": "21792c9e-2b79-4b97-85d9-e7972b8b5478",
   "metadata": {},
   "outputs": [],
   "source": [
    "# tuplas\n",
    "coordenadas = (10, 20)"
   ]
  },
  {
   "cell_type": "code",
   "execution_count": 35,
   "id": "a2323494-f16a-4f73-abb4-a3789c3ae2f7",
   "metadata": {},
   "outputs": [
    {
     "name": "stdout",
     "output_type": "stream",
     "text": [
      "(10, 20)\n"
     ]
    }
   ],
   "source": [
    "print(coordenadas)"
   ]
  },
  {
   "cell_type": "code",
   "execution_count": 36,
   "id": "2b41ef8a-0789-4c76-b5a4-59dabf72cc52",
   "metadata": {},
   "outputs": [],
   "source": [
    "# dicionários\n",
    "\n",
    "dicionario_de_contatos = {\"Maria\": \"1234-5678\", \"Lucas\": \"8739-8327\", \"Raony\": \"3948-9348\"}"
   ]
  },
  {
   "cell_type": "code",
   "execution_count": 38,
   "id": "92ea9afc-b2a0-41cb-a592-c654471e688b",
   "metadata": {},
   "outputs": [],
   "source": [
    "telefone_de_maria = dicionario_de_contatos[\"Maria\"]"
   ]
  },
  {
   "cell_type": "code",
   "execution_count": 39,
   "id": "3be1d634-4515-4676-8ce7-22b9f94924f7",
   "metadata": {},
   "outputs": [
    {
     "name": "stdout",
     "output_type": "stream",
     "text": [
      "1234-5678\n"
     ]
    }
   ],
   "source": [
    "print(telefone_de_maria)"
   ]
  },
  {
   "cell_type": "code",
   "execution_count": 43,
   "id": "22c9ec93-d68c-4178-961f-a02eff0fe338",
   "metadata": {},
   "outputs": [],
   "source": [
    "dicionario_de_contatos[\"Eduardo\"] = \"5555-1212\""
   ]
  },
  {
   "cell_type": "code",
   "execution_count": 44,
   "id": "cdaadd7f-5cb1-42ac-862d-8f4f5c7734a7",
   "metadata": {},
   "outputs": [
    {
     "name": "stdout",
     "output_type": "stream",
     "text": [
      "{'Maria': '1234-5678', 'Lucas': '8739-8327', 'Raony': '3948-9348', 'Eduardo': '5555-1212'}\n"
     ]
    }
   ],
   "source": [
    "print(dicionario_de_contatos)"
   ]
  },
  {
   "cell_type": "code",
   "execution_count": 46,
   "id": "f20da077-c7a2-4315-a264-fb4583f87cd2",
   "metadata": {},
   "outputs": [],
   "source": [
    "# conjuntos\n",
    "\n",
    "conjunto_de_numeros = {1, 2, 2, 3} # cada elemento na prática não se repete"
   ]
  },
  {
   "cell_type": "code",
   "execution_count": 47,
   "id": "1c44dd16-7489-4728-a31a-7e33e8c73d1f",
   "metadata": {},
   "outputs": [
    {
     "name": "stdout",
     "output_type": "stream",
     "text": [
      "{1, 2, 3}\n"
     ]
    }
   ],
   "source": [
    "print(conjunto_de_numeros)"
   ]
  },
  {
   "cell_type": "code",
   "execution_count": 48,
   "id": "af40920c-86c9-4403-ab23-dc92bd05dc42",
   "metadata": {},
   "outputs": [
    {
     "name": "stdout",
     "output_type": "stream",
     "text": [
      "{1, 2, 3, 4, 5}\n"
     ]
    }
   ],
   "source": [
    "conjunto_a = {1, 2, 3}\n",
    "conjunto_b = {3, 4, 5}\n",
    "uniao = conjunto_a.union(conjunto_b)\n",
    "print(uniao)"
   ]
  },
  {
   "cell_type": "code",
   "execution_count": 50,
   "id": "3d23d146-e780-4fa7-897a-a31192e595ee",
   "metadata": {},
   "outputs": [],
   "source": [
    "alunos = [\n",
    "    {\"nome\": \"Maria\", \"idade\": 25, \"notas\": [8, 7, 9]},\n",
    "    {\"nome\": \"Raony\", \"idade\": 28, \"notas\": [8, 9, 10]},\n",
    "    {\"nome\": \"Eduardo\", \"idade\": 26, \"notas\": [10, 10, 10]}\n",
    "]"
   ]
  },
  {
   "cell_type": "code",
   "execution_count": 55,
   "id": "0d476d7a-ca90-4e80-a77a-8d2dcee7bec6",
   "metadata": {},
   "outputs": [
    {
     "name": "stdout",
     "output_type": "stream",
     "text": [
      "8\n"
     ]
    }
   ],
   "source": [
    "nota_da_maria = alunos[0][\"notas\"][0]\n",
    "print(nota_da_maria)"
   ]
  },
  {
   "cell_type": "code",
   "execution_count": null,
   "id": "72b3f911-1abe-4922-9b29-700b220df457",
   "metadata": {},
   "outputs": [],
   "source": []
  }
 ],
 "metadata": {
  "kernelspec": {
   "display_name": "Python 3 (ipykernel)",
   "language": "python",
   "name": "python3"
  },
  "language_info": {
   "codemirror_mode": {
    "name": "ipython",
    "version": 3
   },
   "file_extension": ".py",
   "mimetype": "text/x-python",
   "name": "python",
   "nbconvert_exporter": "python",
   "pygments_lexer": "ipython3",
   "version": "3.12.6"
  }
 },
 "nbformat": 4,
 "nbformat_minor": 5
}
